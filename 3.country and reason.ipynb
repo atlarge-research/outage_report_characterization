{
 "cells": [
  {
   "cell_type": "code",
   "execution_count": 2,
   "metadata": {},
   "outputs": [],
   "source": [
    "import pandas as pd\n",
    "from plotnine import *"
   ]
  },
  {
   "cell_type": "code",
   "execution_count": 3,
   "metadata": {},
   "outputs": [],
   "source": [
    "or_reports = pd.read_parquet('./outage_report_individual_reports_2019-20')"
   ]
  },
  {
   "cell_type": "code",
   "execution_count": 4,
   "metadata": {},
   "outputs": [],
   "source": [
    "filtered_or_reports = or_reports[(or_reports['reason'] != '') & (or_reports['vendor'] != 'overview')].reset_index(drop=True)"
   ]
  },
  {
   "cell_type": "code",
   "execution_count": 5,
   "metadata": {},
   "outputs": [],
   "source": [
    "instagram_or_reports = filtered_or_reports[filtered_or_reports['vendor'] == 'instagram'].reset_index(drop=True)"
   ]
  },
  {
   "cell_type": "code",
   "execution_count": 6,
   "metadata": {},
   "outputs": [],
   "source": [
    "github_or_reports = filtered_or_reports[filtered_or_reports['vendor'] == 'github'].reset_index(drop=True)"
   ]
  },
  {
   "cell_type": "code",
   "execution_count": 17,
   "metadata": {},
   "outputs": [
    {
     "data": {
      "text/html": [
       "<div>\n",
       "<style scoped>\n",
       "    .dataframe tbody tr th:only-of-type {\n",
       "        vertical-align: middle;\n",
       "    }\n",
       "\n",
       "    .dataframe tbody tr th {\n",
       "        vertical-align: top;\n",
       "    }\n",
       "\n",
       "    .dataframe thead th {\n",
       "        text-align: right;\n",
       "    }\n",
       "</style>\n",
       "<table border=\"1\" class=\"dataframe\">\n",
       "  <thead>\n",
       "    <tr style=\"text-align: right;\">\n",
       "      <th></th>\n",
       "      <th>country</th>\n",
       "      <th>count</th>\n",
       "    </tr>\n",
       "  </thead>\n",
       "  <tbody>\n",
       "    <tr>\n",
       "      <th>0</th>\n",
       "      <td>CA</td>\n",
       "      <td>1828</td>\n",
       "    </tr>\n",
       "    <tr>\n",
       "      <th>1</th>\n",
       "      <td>GB</td>\n",
       "      <td>1327</td>\n",
       "    </tr>\n",
       "    <tr>\n",
       "      <th>2</th>\n",
       "      <td>Other</td>\n",
       "      <td>15938</td>\n",
       "    </tr>\n",
       "    <tr>\n",
       "      <th>3</th>\n",
       "      <td>RU</td>\n",
       "      <td>3272</td>\n",
       "    </tr>\n",
       "    <tr>\n",
       "      <th>4</th>\n",
       "      <td>UA</td>\n",
       "      <td>3486</td>\n",
       "    </tr>\n",
       "    <tr>\n",
       "      <th>5</th>\n",
       "      <td>US</td>\n",
       "      <td>15723</td>\n",
       "    </tr>\n",
       "  </tbody>\n",
       "</table>\n",
       "</div>"
      ],
      "text/plain": [
       "  country  count\n",
       "0      CA   1828\n",
       "1      GB   1327\n",
       "2   Other  15938\n",
       "3      RU   3272\n",
       "4      UA   3486\n",
       "5      US  15723"
      ]
     },
     "execution_count": 17,
     "metadata": {},
     "output_type": "execute_result"
    }
   ],
   "source": [
    "top4_countries_insta = instagram_or_reports.groupby('country')['vendor'].count().reset_index().sort_values('vendor', ascending=False).reset_index(drop=True).loc[:4, 'country'].values\n",
    "\n",
    "truncated_insta_reports = instagram_or_reports.copy()\n",
    "truncated_insta_reports.loc[~truncated_insta_reports['country'].isin(top4_countries_insta), 'country'] = 'Other'\n",
    "\n",
    "insta_reports_by_country = truncated_insta_reports.groupby('country')['id'].count().reset_index().rename(columns={'id': 'count'})\n",
    "insta_reports_by_country"
   ]
  },
  {
   "cell_type": "code",
   "execution_count": 48,
   "metadata": {},
   "outputs": [
    {
     "data": {
      "image/png": "[encoded data removed]",
      "text/plain": [
       "<Figure size 640x480 with 1 Axes>"
      ]
     },
     "metadata": {},
     "output_type": "display_data"
    },
    {
     "data": {
      "text/plain": [
       "<ggplot: (328058811)>"
      ]
     },
     "execution_count": 48,
     "metadata": {},
     "output_type": "execute_result"
    }
   ],
   "source": [
    "plt = ggplot(insta_reports_by_country) +\\\n",
    "    geom_bar(aes(x='country', y='count'), stat='identity')\n",
    "\n",
    "plt"
   ]
  },
  {
   "cell_type": "code",
   "execution_count": 14,
   "metadata": {},
   "outputs": [
    {
     "data": {
      "text/html": [
       "<div>\n",
       "<style scoped>\n",
       "    .dataframe tbody tr th:only-of-type {\n",
       "        vertical-align: middle;\n",
       "    }\n",
       "\n",
       "    .dataframe tbody tr th {\n",
       "        vertical-align: top;\n",
       "    }\n",
       "\n",
       "    .dataframe thead th {\n",
       "        text-align: right;\n",
       "    }\n",
       "</style>\n",
       "<table border=\"1\" class=\"dataframe\">\n",
       "  <thead>\n",
       "    <tr style=\"text-align: right;\">\n",
       "      <th></th>\n",
       "      <th>country</th>\n",
       "      <th>count</th>\n",
       "      <th>country_proper</th>\n",
       "      <th>country_cat</th>\n",
       "    </tr>\n",
       "  </thead>\n",
       "  <tbody>\n",
       "    <tr>\n",
       "      <th>0</th>\n",
       "      <td>CA</td>\n",
       "      <td>10265</td>\n",
       "      <td>Canada</td>\n",
       "      <td>Canada</td>\n",
       "    </tr>\n",
       "    <tr>\n",
       "      <th>1</th>\n",
       "      <td>GB</td>\n",
       "      <td>12451</td>\n",
       "      <td>UK</td>\n",
       "      <td>UK</td>\n",
       "    </tr>\n",
       "    <tr>\n",
       "      <th>2</th>\n",
       "      <td>IN</td>\n",
       "      <td>4478</td>\n",
       "      <td>India</td>\n",
       "      <td>India</td>\n",
       "    </tr>\n",
       "    <tr>\n",
       "      <th>3</th>\n",
       "      <td>Other</td>\n",
       "      <td>61927</td>\n",
       "      <td>Other</td>\n",
       "      <td>Other</td>\n",
       "    </tr>\n",
       "    <tr>\n",
       "      <th>4</th>\n",
       "      <td>RU</td>\n",
       "      <td>4200</td>\n",
       "      <td>Russia</td>\n",
       "      <td>Russia</td>\n",
       "    </tr>\n",
       "    <tr>\n",
       "      <th>5</th>\n",
       "      <td>US</td>\n",
       "      <td>80849</td>\n",
       "      <td>USA</td>\n",
       "      <td>USA</td>\n",
       "    </tr>\n",
       "  </tbody>\n",
       "</table>\n",
       "</div>"
      ],
      "text/plain": [
       "  country  count country_proper country_cat\n",
       "0      CA  10265         Canada      Canada\n",
       "1      GB  12451             UK          UK\n",
       "2      IN   4478          India       India\n",
       "3   Other  61927          Other       Other\n",
       "4      RU   4200         Russia      Russia\n",
       "5      US  80849            USA         USA"
      ]
     },
     "execution_count": 14,
     "metadata": {},
     "output_type": "execute_result"
    }
   ],
   "source": [
    "top4_countries_all = filtered_or_reports.groupby('country')['vendor'].count().reset_index().sort_values('vendor', ascending=False).reset_index(drop=True).loc[:4, 'country'].values\n",
    "\n",
    "truncated_all_reports = filtered_or_reports.copy()\n",
    "truncated_all_reports.loc[~truncated_all_reports['country'].isin(top4_countries_all), 'country'] = 'Other'\n",
    "\n",
    "all_reports_by_country = truncated_all_reports.groupby('country')['id'].count().reset_index().rename(columns={'id': 'count'})\n",
    "all_reports_by_country['country_proper'] = all_reports_by_country['country'].replace(['US', 'GB', 'CA', 'IN', 'RU'], ['USA', 'UK', 'Canada', 'India', 'Russia'])\n",
    "countries_sorted = all_reports_by_country.sort_values('count')['country_proper'].values\n",
    "all_reports_by_country['country_cat'] = pd.Categorical(all_reports_by_country['country_proper'], categories=countries_sorted, ordered=True)\n",
    "all_reports_by_country"
   ]
  },
  {
   "cell_type": "code",
   "execution_count": 15,
   "metadata": {},
   "outputs": [
    {
     "name": "stderr",
     "output_type": "stream",
     "text": [
      "/Users/sacheendra/miniconda3/envs/thesis/lib/python3.8/site-packages/plotnine/ggplot.py:727: PlotnineWarning: Saving 4 x 2 in image.\n",
      "/Users/sacheendra/miniconda3/envs/thesis/lib/python3.8/site-packages/plotnine/ggplot.py:730: PlotnineWarning: Filename: ./plots/reports_by_country.pdf\n"
     ]
    },
    {
     "data": {
      "image/png": "[encoded data removed]",
      "text/plain": [
       "<Figure size 400x200 with 1 Axes>"
      ]
     },
     "metadata": {},
     "output_type": "display_data"
    },
    {
     "data": {
      "text/plain": [
       "<ggplot: (275238765)>"
      ]
     },
     "execution_count": 15,
     "metadata": {},
     "output_type": "execute_result"
    }
   ],
   "source": [
    "plt = ggplot(all_reports_by_country) +\\\n",
    "    geom_bar(aes(x='country_cat', y='count'), stat='identity', fill='#0280c9') +\\\n",
    "    coord_flip() +\\\n",
    "    xlab('Country') + ylab('Number of reports') +\\\n",
    "    theme_classic(base_size=12, base_family='sans-serif') +\\\n",
    "    theme(figure_size=(4, 2),\n",
    "          axis_text_y=element_text(margin={'r': 5}),\n",
    "          text=element_text(size=12))\n",
    "\n",
    "plt.save('./plots/reports_by_country.pdf', limitsize=False)\n",
    "plt"
   ]
  },
  {
   "cell_type": "code",
   "execution_count": 11,
   "metadata": {},
   "outputs": [
    {
     "name": "stdout",
     "output_type": "stream",
     "text": [
      "215\n"
     ]
    },
    {
     "data": {
      "text/plain": [
       "array(['US', 'CZ', 'CA', 'GB', 'DE', 'RU', 'UA', 'AR', 'FR', 'PK', 'KW',\n",
       "       'PT', 'BH', 'MY', 'RS', 'MT', 'AU', 'NL', 'BE', 'HK', 'MX', 'RO',\n",
       "       'PL', 'PH', 'SG', 'NG', 'ID', 'SK', 'JM', 'IT', 'KZ', 'SE', 'BR',\n",
       "       'IE', 'FI', 'NO', 'HR', 'ES', 'CH', 'ZA', 'EG', 'MM', 'PE', 'UG',\n",
       "       'CL', 'OM', 'TR', 'GR', 'IN', 'HU', 'AT', 'BY', 'SZ', 'NZ', 'IS',\n",
       "       'BG', 'TW', 'HN', 'EC', 'JP', 'LB', 'BN', 'CN', 'CO', 'LT', 'GH',\n",
       "       'AL', 'UZ', 'EE', 'DK', 'GY', 'AE', 'MA', 'HT', 'IM', 'BO', 'BZ',\n",
       "       'PA', 'IL', 'TH', 'KR', 'Unknown', 'DO', 'SA', 'BS', 'MK', 'TT',\n",
       "       'LV', 'KG', 'PS', 'VE', 'KN', 'NP', 'QA', 'IQ', 'PR', 'PY', 'SI',\n",
       "       'ZW', 'TN', 'IR', 'DZ', 'KE', 'LK', 'CD', 'BM', 'MU', 'KH', 'GE',\n",
       "       'CR', 'TZ', 'MZ', 'MQ', 'JE', 'CY', 'MD', 'AW', 'DJ', 'VN', 'SV',\n",
       "       'SR', 'AZ', 'BB', 'WS', 'SH', 'GG', 'SN', 'BD', 'UY', 'SX', 'JO',\n",
       "       'NA', 'NE', 'AD', 'TJ', 'BA', 'LU', 'VU', 'AM', 'AO', 'GT', 'GU',\n",
       "       'NI', 'GM', 'KY', 'GA', 'MO', 'CW', 'SY', 'MG', 'AX', 'BJ', 'NC',\n",
       "       'RW', 'CM', 'MP', 'RE', 'FO', 'CU', 'BI', 'VC', 'LA', 'ZM', 'SD',\n",
       "       'BT', 'CI', 'VG', 'FJ', 'SC', 'DM', 'KM', 'CV', 'BF', 'AG', 'MV',\n",
       "       'VI', 'PM', 'YT', 'GI', 'AF', 'XK', 'LY', 'MS', 'ET', 'BW', 'YE',\n",
       "       'AI', 'PW', 'MN', 'GP', 'GN', 'GD', 'MC', 'PF', 'ME', 'TC', 'LC',\n",
       "       'BQ', 'SO', 'ML', 'LR', 'BL', 'KI', 'TG', 'SL', 'MW', 'CG', 'CF',\n",
       "       'PG', 'GL', 'MR', 'MF', 'GF', 'TM', 'WF'], dtype=object)"
      ]
     },
     "execution_count": 11,
     "metadata": {},
     "output_type": "execute_result"
    }
   ],
   "source": [
    "print(len(filtered_or_reports['country'].unique())) # Including unknown\n",
    "filtered_or_reports['country'].unique()"
   ]
  },
  {
   "cell_type": "code",
   "execution_count": 20,
   "metadata": {},
   "outputs": [
    {
     "data": {
      "text/html": [
       "<div>\n",
       "<style scoped>\n",
       "    .dataframe tbody tr th:only-of-type {\n",
       "        vertical-align: middle;\n",
       "    }\n",
       "\n",
       "    .dataframe tbody tr th {\n",
       "        vertical-align: top;\n",
       "    }\n",
       "\n",
       "    .dataframe thead th {\n",
       "        text-align: right;\n",
       "    }\n",
       "</style>\n",
       "<table border=\"1\" class=\"dataframe\">\n",
       "  <thead>\n",
       "    <tr style=\"text-align: right;\">\n",
       "      <th></th>\n",
       "      <th>reason</th>\n",
       "      <th>count</th>\n",
       "      <th>reason_cat</th>\n",
       "    </tr>\n",
       "  </thead>\n",
       "  <tbody>\n",
       "    <tr>\n",
       "      <th>0</th>\n",
       "      <td>Can't login</td>\n",
       "      <td>3654</td>\n",
       "      <td>Can't login</td>\n",
       "    </tr>\n",
       "    <tr>\n",
       "      <th>1</th>\n",
       "      <td>Can't upload pics</td>\n",
       "      <td>4548</td>\n",
       "      <td>Can't upload pics</td>\n",
       "    </tr>\n",
       "    <tr>\n",
       "      <th>2</th>\n",
       "      <td>Everything is down</td>\n",
       "      <td>2613</td>\n",
       "      <td>Everything is down</td>\n",
       "    </tr>\n",
       "    <tr>\n",
       "      <th>3</th>\n",
       "      <td>Hashtags not working</td>\n",
       "      <td>408</td>\n",
       "      <td>Hashtags not working</td>\n",
       "    </tr>\n",
       "    <tr>\n",
       "      <th>4</th>\n",
       "      <td>Message read problems</td>\n",
       "      <td>1127</td>\n",
       "      <td>Message read problems</td>\n",
       "    </tr>\n",
       "    <tr>\n",
       "      <th>5</th>\n",
       "      <td>Message send problems</td>\n",
       "      <td>994</td>\n",
       "      <td>Message send problems</td>\n",
       "    </tr>\n",
       "    <tr>\n",
       "      <th>6</th>\n",
       "      <td>Mobile app crashes</td>\n",
       "      <td>3929</td>\n",
       "      <td>Mobile app crashes</td>\n",
       "    </tr>\n",
       "    <tr>\n",
       "      <th>7</th>\n",
       "      <td>Mobile app not working</td>\n",
       "      <td>15533</td>\n",
       "      <td>Mobile app not working</td>\n",
       "    </tr>\n",
       "    <tr>\n",
       "      <th>8</th>\n",
       "      <td>Newsfeed</td>\n",
       "      <td>4161</td>\n",
       "      <td>Newsfeed</td>\n",
       "    </tr>\n",
       "    <tr>\n",
       "      <th>9</th>\n",
       "      <td>Unknown</td>\n",
       "      <td>1708</td>\n",
       "      <td>Unknown</td>\n",
       "    </tr>\n",
       "    <tr>\n",
       "      <th>10</th>\n",
       "      <td>Website down</td>\n",
       "      <td>2899</td>\n",
       "      <td>Website down</td>\n",
       "    </tr>\n",
       "  </tbody>\n",
       "</table>\n",
       "</div>"
      ],
      "text/plain": [
       "                    reason  count              reason_cat\n",
       "0              Can't login   3654             Can't login\n",
       "1        Can't upload pics   4548       Can't upload pics\n",
       "2       Everything is down   2613      Everything is down\n",
       "3     Hashtags not working    408    Hashtags not working\n",
       "4    Message read problems   1127   Message read problems\n",
       "5    Message send problems    994   Message send problems\n",
       "6       Mobile app crashes   3929      Mobile app crashes\n",
       "7   Mobile app not working  15533  Mobile app not working\n",
       "8                 Newsfeed   4161                Newsfeed\n",
       "9                  Unknown   1708                 Unknown\n",
       "10            Website down   2899            Website down"
      ]
     },
     "execution_count": 20,
     "metadata": {},
     "output_type": "execute_result"
    }
   ],
   "source": [
    "insta_reports_by_reason = instagram_or_reports.groupby('reason')['id'].count().reset_index().rename(columns={'id': 'count'})\n",
    "reasons_sorted = insta_reports_by_reason.sort_values('count')['reason'].values\n",
    "insta_reports_by_reason['reason_cat'] = pd.Categorical(insta_reports_by_reason['reason'], categories=reasons_sorted, ordered=True)\n",
    "insta_reports_by_reason"
   ]
  },
  {
   "cell_type": "code",
   "execution_count": 34,
   "metadata": {},
   "outputs": [
    {
     "name": "stderr",
     "output_type": "stream",
     "text": [
      "/Users/sacheendra/miniconda3/envs/thesis/lib/python3.8/site-packages/plotnine/ggplot.py:727: PlotnineWarning: Saving 4 x 3 in image.\n",
      "/Users/sacheendra/miniconda3/envs/thesis/lib/python3.8/site-packages/plotnine/ggplot.py:730: PlotnineWarning: Filename: ./plots/insta_reports_by_reason.pdf\n"
     ]
    },
    {
     "data": {
      "image/png": "[encoded data removed]",
      "text/plain": [
       "<Figure size 400x300 with 1 Axes>"
      ]
     },
     "metadata": {},
     "output_type": "display_data"
    },
    {
     "data": {
      "text/plain": [
       "<ggplot: (309548255)>"
      ]
     },
     "execution_count": 34,
     "metadata": {},
     "output_type": "execute_result"
    }
   ],
   "source": [
    "plt = ggplot(insta_reports_by_reason) +\\\n",
    "    geom_bar(aes(x='reason_cat', y='count'), stat='identity', fill='#0280c9') +\\\n",
    "    coord_flip() +\\\n",
    "    xlab('Reason') + ylab('Number of reports') +\\\n",
    "    theme_classic(base_size=12, base_family='sans-serif') +\\\n",
    "    theme(figure_size=(4, 3),\n",
    "          axis_text_y=element_text(margin={'r': 5}),\n",
    "          text=element_text(size=12))\n",
    "\n",
    "plt.save('./plots/insta_reports_by_reason.pdf', limitsize=False)\n",
    "plt"
   ]
  },
  {
   "cell_type": "code",
   "execution_count": 39,
   "metadata": {},
   "outputs": [
    {
     "data": {
      "text/html": [
       "<div>\n",
       "<style scoped>\n",
       "    .dataframe tbody tr th:only-of-type {\n",
       "        vertical-align: middle;\n",
       "    }\n",
       "\n",
       "    .dataframe tbody tr th {\n",
       "        vertical-align: top;\n",
       "    }\n",
       "\n",
       "    .dataframe thead th {\n",
       "        text-align: right;\n",
       "    }\n",
       "</style>\n",
       "<table border=\"1\" class=\"dataframe\">\n",
       "  <thead>\n",
       "    <tr style=\"text-align: right;\">\n",
       "      <th></th>\n",
       "      <th>reason</th>\n",
       "      <th>mean_pdf</th>\n",
       "      <th>reason_cat</th>\n",
       "    </tr>\n",
       "  </thead>\n",
       "  <tbody>\n",
       "    <tr>\n",
       "      <th>0</th>\n",
       "      <td>Mobile app not working</td>\n",
       "      <td>0.174832</td>\n",
       "      <td>Mobile app not working</td>\n",
       "    </tr>\n",
       "    <tr>\n",
       "      <th>1</th>\n",
       "      <td>Website down</td>\n",
       "      <td>0.173807</td>\n",
       "      <td>Website down</td>\n",
       "    </tr>\n",
       "    <tr>\n",
       "      <th>2</th>\n",
       "      <td>Unknown</td>\n",
       "      <td>0.130210</td>\n",
       "      <td>Unknown</td>\n",
       "    </tr>\n",
       "    <tr>\n",
       "      <th>3</th>\n",
       "      <td>Everything is down</td>\n",
       "      <td>0.127983</td>\n",
       "      <td>Everything is down</td>\n",
       "    </tr>\n",
       "    <tr>\n",
       "      <th>4</th>\n",
       "      <td>Can't login</td>\n",
       "      <td>0.082374</td>\n",
       "      <td>Can't login</td>\n",
       "    </tr>\n",
       "    <tr>\n",
       "      <th>5</th>\n",
       "      <td>Message send problems</td>\n",
       "      <td>0.075580</td>\n",
       "      <td>Message send problems</td>\n",
       "    </tr>\n",
       "    <tr>\n",
       "      <th>6</th>\n",
       "      <td>Message read problems</td>\n",
       "      <td>0.033245</td>\n",
       "      <td>Message read problems</td>\n",
       "    </tr>\n",
       "    <tr>\n",
       "      <th>7</th>\n",
       "      <td>Mobile app crashes</td>\n",
       "      <td>0.031515</td>\n",
       "      <td>Mobile app crashes</td>\n",
       "    </tr>\n",
       "    <tr>\n",
       "      <th>8</th>\n",
       "      <td>Stream not working</td>\n",
       "      <td>0.029427</td>\n",
       "      <td>Stream not working</td>\n",
       "    </tr>\n",
       "    <tr>\n",
       "      <th>9</th>\n",
       "      <td>Videos won't play</td>\n",
       "      <td>0.023544</td>\n",
       "      <td>Videos won't play</td>\n",
       "    </tr>\n",
       "  </tbody>\n",
       "</table>\n",
       "</div>"
      ],
      "text/plain": [
       "                   reason  mean_pdf              reason_cat\n",
       "0  Mobile app not working  0.174832  Mobile app not working\n",
       "1            Website down  0.173807            Website down\n",
       "2                 Unknown  0.130210                 Unknown\n",
       "3      Everything is down  0.127983      Everything is down\n",
       "4             Can't login  0.082374             Can't login\n",
       "5   Message send problems  0.075580   Message send problems\n",
       "6   Message read problems  0.033245   Message read problems\n",
       "7      Mobile app crashes  0.031515      Mobile app crashes\n",
       "8      Stream not working  0.029427      Stream not working\n",
       "9       Videos won't play  0.023544       Videos won't play"
      ]
     },
     "execution_count": 39,
     "metadata": {},
     "output_type": "execute_result"
    }
   ],
   "source": [
    "reason_fraction_df_list = []\n",
    "\n",
    "for vendor in filtered_or_reports['vendor'].unique():\n",
    "    partial_df = filtered_or_reports[filtered_or_reports['vendor'] == vendor].reset_index(drop=True)\n",
    "    count_df = partial_df.groupby('reason')['id'].count().reset_index().rename(columns={'id': 'count'})\n",
    "    count_df['pdf'] = count_df['count'] / count_df['count'].sum()\n",
    "    count_df['vendor'] = vendor\n",
    "    reason_fraction_df_list.append(count_df)\n",
    "\n",
    "reason_fraction_df = pd.concat(reason_fraction_df_list)\n",
    "mean_fractions_reasons = reason_fraction_df.groupby('reason')['pdf'].sum().reset_index().rename(columns={'pdf': 'mean_pdf'})\n",
    "mean_fractions_reasons['mean_pdf'] = mean_fractions_reasons['mean_pdf'] / 12\n",
    "top10_mean_fractions_reasons = mean_fractions_reasons.sort_values('mean_pdf', ascending=False).reset_index(drop=True)[:10]\n",
    "reasons_sorted = top10_mean_fractions_reasons.sort_values('mean_pdf')['reason'].values\n",
    "top10_mean_fractions_reasons['reason_cat'] = pd.Categorical(top10_mean_fractions_reasons['reason'], categories=reasons_sorted, ordered=True)\n",
    "top10_mean_fractions_reasons"
   ]
  },
  {
   "cell_type": "code",
   "execution_count": 41,
   "metadata": {},
   "outputs": [
    {
     "data": {
      "image/png": "[encoded data removed]",
      "text/plain": [
       "<Figure size 400x300 with 1 Axes>"
      ]
     },
     "metadata": {},
     "output_type": "display_data"
    },
    {
     "data": {
      "text/plain": [
       "<ggplot: (309449361)>"
      ]
     },
     "execution_count": 41,
     "metadata": {},
     "output_type": "execute_result"
    }
   ],
   "source": [
    "plt = ggplot(top10_mean_fractions_reasons) +\\\n",
    "    geom_bar(aes(x='reason_cat', y='mean_pdf'), stat='identity', fill='#0280c9') +\\\n",
    "    coord_flip() +\\\n",
    "    xlab('Reason') + ylab('Mean of fraction of reports per service') +\\\n",
    "    theme_classic(base_size=12, base_family='sans-serif') +\\\n",
    "    theme(figure_size=(4, 3),\n",
    "          axis_text_y=element_text(margin={'r': 5}),\n",
    "          text=element_text(size=12))\n",
    "\n",
    "plt.save('./plots/all_reports_by_reason.pdf', limitsize=False)\n",
    "plt"
   ]
  },
  {
   "cell_type": "code",
   "execution_count": 64,
   "metadata": {},
   "outputs": [
    {
     "data": {
      "text/plain": [
       "1062"
      ]
     },
     "execution_count": 64,
     "metadata": {},
     "output_type": "execute_result"
    }
   ],
   "source": [
    "github_or_reports.groupby('reason')['id'].count().reset_index().rename(columns={'id': 'count'})['count'].sum()"
   ]
  },
  {
   "cell_type": "code",
   "execution_count": 65,
   "metadata": {},
   "outputs": [
    {
     "data": {
      "text/html": [
       "<div>\n",
       "<style scoped>\n",
       "    .dataframe tbody tr th:only-of-type {\n",
       "        vertical-align: middle;\n",
       "    }\n",
       "\n",
       "    .dataframe tbody tr th {\n",
       "        vertical-align: top;\n",
       "    }\n",
       "\n",
       "    .dataframe thead th {\n",
       "        text-align: right;\n",
       "    }\n",
       "</style>\n",
       "<table border=\"1\" class=\"dataframe\">\n",
       "  <thead>\n",
       "    <tr style=\"text-align: right;\">\n",
       "      <th></th>\n",
       "      <th>vendor</th>\n",
       "      <th>count</th>\n",
       "    </tr>\n",
       "  </thead>\n",
       "  <tbody>\n",
       "    <tr>\n",
       "      <th>3</th>\n",
       "      <td>github</td>\n",
       "      <td>1062</td>\n",
       "    </tr>\n",
       "    <tr>\n",
       "      <th>7</th>\n",
       "      <td>skype</td>\n",
       "      <td>2029</td>\n",
       "    </tr>\n",
       "    <tr>\n",
       "      <th>0</th>\n",
       "      <td>apple-servers</td>\n",
       "      <td>2566</td>\n",
       "    </tr>\n",
       "    <tr>\n",
       "      <th>2</th>\n",
       "      <td>facebook-messenger</td>\n",
       "      <td>6836</td>\n",
       "    </tr>\n",
       "    <tr>\n",
       "      <th>8</th>\n",
       "      <td>snapchat</td>\n",
       "      <td>8118</td>\n",
       "    </tr>\n",
       "    <tr>\n",
       "      <th>10</th>\n",
       "      <td>whatsapp</td>\n",
       "      <td>9426</td>\n",
       "    </tr>\n",
       "    <tr>\n",
       "      <th>4</th>\n",
       "      <td>gmail</td>\n",
       "      <td>9427</td>\n",
       "    </tr>\n",
       "    <tr>\n",
       "      <th>6</th>\n",
       "      <td>netflix</td>\n",
       "      <td>20211</td>\n",
       "    </tr>\n",
       "    <tr>\n",
       "      <th>9</th>\n",
       "      <td>twitter</td>\n",
       "      <td>20252</td>\n",
       "    </tr>\n",
       "    <tr>\n",
       "      <th>1</th>\n",
       "      <td>facebook</td>\n",
       "      <td>25886</td>\n",
       "    </tr>\n",
       "    <tr>\n",
       "      <th>11</th>\n",
       "      <td>youtube</td>\n",
       "      <td>26783</td>\n",
       "    </tr>\n",
       "    <tr>\n",
       "      <th>5</th>\n",
       "      <td>instagram</td>\n",
       "      <td>41574</td>\n",
       "    </tr>\n",
       "  </tbody>\n",
       "</table>\n",
       "</div>"
      ],
      "text/plain": [
       "                vendor  count\n",
       "3               github   1062\n",
       "7                skype   2029\n",
       "0        apple-servers   2566\n",
       "2   facebook-messenger   6836\n",
       "8             snapchat   8118\n",
       "10            whatsapp   9426\n",
       "4                gmail   9427\n",
       "6              netflix  20211\n",
       "9              twitter  20252\n",
       "1             facebook  25886\n",
       "11             youtube  26783\n",
       "5            instagram  41574"
      ]
     },
     "execution_count": 65,
     "metadata": {},
     "output_type": "execute_result"
    }
   ],
   "source": [
    "filtered_or_reports.groupby('vendor')['country'].count().reset_index().rename(columns={'country':'count'}).sort_values('count')"
   ]
  }
 ],
 "metadata": {
  "kernelspec": {
   "display_name": "Python 3",
   "language": "python",
   "name": "python3"
  },
  "language_info": {
   "codemirror_mode": {
    "name": "ipython",
    "version": 3
   },
   "file_extension": ".py",
   "mimetype": "text/x-python",
   "name": "python",
   "nbconvert_exporter": "python",
   "pygments_lexer": "ipython3",
   "version": "3.8.5"
  }
 },
 "nbformat": 4,
 "nbformat_minor": 4
}
